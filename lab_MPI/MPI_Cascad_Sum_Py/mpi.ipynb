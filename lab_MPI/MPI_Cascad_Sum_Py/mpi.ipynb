{
 "cells": [
  {
   "cell_type": "code",
   "execution_count": 515,
   "metadata": {},
   "outputs": [
    {
     "name": "stdout",
     "output_type": "stream",
     "text": [
      "{'Cascade sum': 208}\n",
      "{'Cascade sum': 208}\n",
      "{'Cascade sum': 208}\n",
      "{'Cascade sum': 208}\n",
      "{'Cascade sum': 208}\n",
      "\n",
      "\n",
      "\n",
      "{'Cascade sum': 208}\n",
      "{'Cascade sum': 208}\n",
      "\n",
      "{'Cascade sum': 208}\n",
      "\n",
      "\n"
     ]
    }
   ],
   "source": [
    "import os\n",
    "import glob\n",
    "\n",
    "def delete_all_files_in_directory(directory_path):\n",
    "    # Получаем список всех файлов в директории\n",
    "    files = glob.glob(os.path.join(directory_path, '*'))\n",
    "\n",
    "    # Удаляем каждый файл\n",
    "    for file_path in files:\n",
    "        if os.path.isfile(file_path):\n",
    "            os.remove(file_path)\n",
    "\n",
    "def read_all_txt_files_in_directory(directory_path):\n",
    "    # Получаем список всех файлов .txt в директории\n",
    "    txt_files = glob.glob(os.path.join(directory_path, '*.txt'))\n",
    "\n",
    "    # Читаем содержимое каждого файла\n",
    "    for file_path in txt_files:\n",
    "        with open(file_path, 'r', encoding='utf-8') as file:\n",
    "            content = file.read()\n",
    "            print(content)\n",
    "\n",
    "delete_all_files_in_directory('mpis/')\n",
    "\n",
    "!mpiexec -n 8 python cascade_sum.py  "
   ]
  },
  {
   "cell_type": "code",
   "execution_count": 516,
   "metadata": {},
   "outputs": [
    {
     "name": "stdout",
     "output_type": "stream",
     "text": [
      "Process 0 = 46\n",
      "Process 1 = 5\n",
      "Process 2 = 92\n",
      "Process 3 = 26\n",
      "Process 4 = 22\n",
      "Process 5 = 8\n",
      "Process 6 = 1\n",
      "Process 7 = 8\n"
     ]
    }
   ],
   "source": [
    "read_all_txt_files_in_directory('mpis/')"
   ]
  }
 ],
 "metadata": {
  "kernelspec": {
   "display_name": "Python 3",
   "language": "python",
   "name": "python3"
  },
  "language_info": {
   "codemirror_mode": {
    "name": "ipython",
    "version": 3
   },
   "file_extension": ".py",
   "mimetype": "text/x-python",
   "name": "python",
   "nbconvert_exporter": "python",
   "pygments_lexer": "ipython3",
   "version": "3.12.3"
  }
 },
 "nbformat": 4,
 "nbformat_minor": 2
}
